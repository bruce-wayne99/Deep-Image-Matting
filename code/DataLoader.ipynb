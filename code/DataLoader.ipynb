{
 "cells": [
  {
   "cell_type": "markdown",
   "metadata": {},
   "source": [
    "### Load Packages"
   ]
  },
  {
   "cell_type": "code",
   "execution_count": 13,
   "metadata": {},
   "outputs": [],
   "source": [
    "import torch\n",
    "import random\n",
    "import cv2\n",
    "import numpy as np\n",
    "from torch.utils.data import DataLoader\n",
    "import matplotlib.pyplot as plt"
   ]
  },
  {
   "cell_type": "markdown",
   "metadata": {},
   "source": [
    "### Load dataset"
   ]
  },
  {
   "cell_type": "code",
   "execution_count": 14,
   "metadata": {},
   "outputs": [],
   "source": [
    "def load_dataset(fg_path, alpha_path, bg_path, files_list):\n",
    "    train_item = TrainClass(fg_path, alpha_path, bg_path, files_list)\n",
    "    train_loader = DataLoader(dataset=train_item, num_workers=4, batch_size=1, shuffle=True)\n",
    "    return train_loader"
   ]
  },
  {
   "cell_type": "markdown",
   "metadata": {},
   "source": [
    "### Train Class for preprocesing"
   ]
  },
  {
   "cell_type": "code",
   "execution_count": 25,
   "metadata": {},
   "outputs": [],
   "source": [
    "class TrainClass(torch.utils.data.Dataset):\n",
    "    \n",
    "    def __init__(self, fg_path, alpha_path, bg_path, files_list):\n",
    "        self.samples = files_list\n",
    "        self.fg_path = fg_path\n",
    "        self.alpha_path = alpha_path\n",
    "        self.bg_path = bg_path\n",
    "        self.size_h = 10\n",
    "        self.size_w = 10\n",
    "        self.crop_h = 10\n",
    "        self.crop_w = 10\n",
    "    \n",
    "    def __getitem__(self, index):\n",
    "        fg_file = files_list[index][0]\n",
    "        bg_file = files_list[index][1]\n",
    "        alpha_file = files_list[index][2]\n",
    "        \n",
    "        fg = cv2.imread(self.fg_path + fg_file)\n",
    "        bg = cv2.imread(self.bg_path + bg_file)\n",
    "        alpha = cv2.imread(self.alpha_path + alpha_file)\n",
    "        cv2.imwrite('composite.jpg', composite(fg, bg, alpha))\n",
    "        img = cv2.imread('composite.jpg')\n",
    "        \n",
    "        rand_ind = random.randint(0, len(self.crop_h) - 1)\n",
    "        cur_crop_h = self.crop_h[rand_ind]\n",
    "        cur_crop_w = self.crop_w[rand_ind]\n",
    "\n",
    "        wratio = float(cur_crop_w) / bw\n",
    "        hratio = float(cur_crop_h) / bh\n",
    "        ratio = wratio if wratio > hratio else hratio\n",
    "        if ratio > 1:\n",
    "            nbw = int(bw * ratio + 1.0)\n",
    "            nbh = int(bh * ratio + 1.0)\n",
    "            fg = cv2.resize(fg, (nbw, nbh), interpolation=cv2.INTER_LINEAR)\n",
    "            bg = cv2.resize(bg, (nbw, nbh), interpolation=cv2.INTER_LINEAR)\n",
    "            img = cv2.resize(img, (nbw, nbh), interpolation=cv2.INTER_LINEAR)\n",
    "            alpha = cv2.resize(alpha, (nbw, nbh), interpolation=cv2.INTER_LINEAR)\n",
    "        trimap = get_trimap(alpha)\n",
    "\n",
    "        if self.transform:\n",
    "            img, alpha, fg, bg, trimap = transform(img, alpha, fg, bg, trimap, cur_crop_h, cur_crop_w)\n",
    "\n",
    "        if self.size_h != img.shape[0] or self.size_w != img.shape[1]:\n",
    "            img = cv2.resize(img, (self.size_w, self.size_h), interpolation=cv2.INTER_LINEAR)\n",
    "            fg = cv2.resize(fg, (self.size_w, self.size_h), interpolation=cv2.INTER_LINEAR)\n",
    "            bg = cv2.resize(bg, (self.size_w, self.size_h), interpolation=cv2.INTER_LINEAR)\n",
    "            alpha = cv2.resize(alpha, (self.size_w, self.size_h), interpolation=cv2.INTER_LINEAR)\n",
    "\n",
    "        trimap = self.get_trimap(alpha)\n",
    "#         grad = compute_gradient(img)\n",
    "\n",
    "        alpha = torch.from_numpy(alpha.astype(np.float32)[np.newaxis, :, :])\n",
    "        trimap = torch.from_numpy(trimap.astype(np.float32)[np.newaxis, :, :])\n",
    "#         grad = torch.from_numpy(grad.astype(np.float32)[np.newaxis, :, :])\n",
    "        img = torch.from_numpy(img.astype(np.float32)).permute(2, 0, 1)\n",
    "        fg = torch.from_numpy(fg.astype(np.float32)).permute(2, 0, 1)\n",
    "        bg = torch.from_numpy(bg.astype(np.float32)).permute(2, 0, 1)\n",
    "\n",
    "        return img, alpha, fg, bg, trimap\n",
    "\n",
    "    def __len__(self):\n",
    "        return len(self.samples)"
   ]
  },
  {
   "cell_type": "markdown",
   "metadata": {},
   "source": [
    "### Random crops and transforms"
   ]
  },
  {
   "cell_type": "code",
   "execution_count": 16,
   "metadata": {},
   "outputs": [],
   "source": [
    "def transform(img, alpha, fg, bg, trimap, cur_crop_h, cur_crop_w, flip=True):\n",
    "    h, w = alpha.shape\n",
    "    target = np.where(trimap == 128)\n",
    "    cropx, cropy = 0, 0\n",
    "    if len(target[0]) > 0:\n",
    "        rand_ind = np.random.randint(len(target[0]), size = 1)[0]\n",
    "        cropx, cropy = target[0][rand_ind], target[1][rand_ind]\n",
    "        cropx = min(max(cropx, 0), w - crop_w)\n",
    "        cropy = min(max(cropy, 0), h - crop_h)\n",
    "\n",
    "    img    = img   [cropy : cropy + crop_h, cropx : cropx + crop_w]\n",
    "    fg     = fg    [cropy : cropy + crop_h, cropx : cropx + crop_w]\n",
    "    bg     = bg    [cropy : cropy + crop_h, cropx : cropx + crop_w]\n",
    "    alpha  = alpha [cropy : cropy + crop_h, cropx : cropx + crop_w]\n",
    "    trimap = trimap[cropy : cropy + crop_h, cropx : cropx + crop_w]\n",
    "\n",
    "    if flip and random.random() < 0.5:\n",
    "        img = cv2.flip(img, 1)\n",
    "        alpha = cv2.flip(alpha, 1)\n",
    "        fg = cv2.flip(fg, 1)\n",
    "        bg = cv2.flip(bg, 1)\n",
    "        trimap = cv2.flip(trimap, 1)\n",
    "\n",
    "    return img, alpha, fg, bg, trimap"
   ]
  },
  {
   "cell_type": "markdown",
   "metadata": {},
   "source": [
    "### Generate trimap of an element"
   ]
  },
  {
   "cell_type": "code",
   "execution_count": 17,
   "metadata": {},
   "outputs": [],
   "source": [
    "def get_trimap(alpha):\n",
    "    k_size = random.choice(range(1, 5))\n",
    "    kernel = cv2.getStructuringElement(cv2.MORPH_ELLIPSE, (k_size, k_size))\n",
    "    dilated = cv2.dilate(alpha, kernel, iterations=np.random.randint(1, 20))\n",
    "    trimap = np.zeros(alpha.shape)\n",
    "    trimap.fill(128)\n",
    "    trimap[alpha >= 255] = 255\n",
    "    trimap[dilated <= 0] = 0\n",
    "\n",
    "    return trimap"
   ]
  },
  {
   "cell_type": "markdown",
   "metadata": {},
   "source": [
    "### Computing the image from fg, bg and alpha"
   ]
  },
  {
   "cell_type": "code",
   "execution_count": 18,
   "metadata": {},
   "outputs": [],
   "source": [
    "def composite(fg, bg, alpha):\n",
    "    h, w ,c = fg.shape\n",
    "    bh, bw, bc = bg.shape\n",
    "    wratio = float(w) / bw\n",
    "    hratio = float(h) / bh\n",
    "    ratio = wratio if wratio > hratio else hratio     \n",
    "    if ratio > 1:\n",
    "        new_bw = int(bw * ratio + 1.0)\n",
    "        new_bh = int(bh * ratio + 1.0)\n",
    "        bg = cv2.resize(bg, (new_bw, new_bh), interpolation=cv2.INTER_LINEAR)\n",
    "    bg = bg[0 : h, 0 : w, :]\n",
    "    alpha_f = alpha / 255.\n",
    "    comp = fg * alpha_f + bg * (1. - alpha_f)\n",
    "    return comp"
   ]
  },
  {
   "cell_type": "code",
   "execution_count": 19,
   "metadata": {},
   "outputs": [],
   "source": [
    "def get_files_list(fg_file, bg_file):\n",
    "    fg_list = []\n",
    "    bg_list = []\n",
    "    with open(fg_file, 'r') as f:\n",
    "        fg_list = f.readlines()\n",
    "    with open(bg_file, 'r') as f:\n",
    "        bg_list = f.readlines()\n",
    "    for i in range(len(fg_list)):\n",
    "        fg_list[i] = fg_list[i].strip('\\n').strip('\\r')\n",
    "    for i in range(len(bg_list)):\n",
    "        bg_list[i] = bg_list[i].strip('\\n').strip('\\r')\n",
    "    arr = []\n",
    "    cnt = 0\n",
    "    for i in range(len(fg_list)):\n",
    "        for j in range(100):\n",
    "            arr.append((fg_list[i], bg_list[cnt], fg_list[i]))\n",
    "            cnt += 1\n",
    "    return arr"
   ]
  },
  {
   "cell_type": "markdown",
   "metadata": {},
   "source": [
    "### Testing composite function"
   ]
  },
  {
   "cell_type": "code",
   "execution_count": 26,
   "metadata": {},
   "outputs": [],
   "source": [
    "# comp = composite(cv2.imread('fg1.jpg'), cv2.imread('bg1.jpg'), cv2.imread('alpha1.jpg'))\n",
    "# comp = comp.astype(np.uint8)\n",
    "# plt.figure()\n",
    "# plt.subplot(121)\n",
    "# plt.imshow(comp)\n",
    "# cv2.imwrite('/home/subramanyam.m/temp.jpg', comp)\n",
    "# comp1 = cv2.imread('/home/subramanyam.m/temp.jpg')\n",
    "# plt.subplot(122)\n",
    "# plt.imshow(comp1)\n",
    "# print((comp - comp1).sum()/comp.shape[0]/comp.shape[1])\n",
    "\n",
    "fg_path = '/scratch/matting/dataset/Training_set/adobe/fg/'\n",
    "bg_path = '/scratch/matting/dataset/Training_set/adobe/bg/'\n",
    "alpha_path = '/scratch/matting/dataset/Training_set/adobe/alpha/'\n",
    "vgg_path = '/scratch/matting/dataset/vgg_state_dict.pth'\n",
    "fg_file = '/scratch/matting/dataset/Training_set/training_fg_names.txt'\n",
    "bg_file = '/scratch/matting/dataset/Training_set/training_bg_names.txt'\n",
    "files_list = get_files_list(fg_file, bg_file)\n",
    "dataset = load_dataset(fg_path, alpha_path, bg_path, files_list)"
   ]
  }
 ],
 "metadata": {
  "kernelspec": {
   "display_name": "CV Project",
   "language": "python",
   "name": "venv"
  },
  "language_info": {
   "codemirror_mode": {
    "name": "ipython",
    "version": 2
   },
   "file_extension": ".py",
   "mimetype": "text/x-python",
   "name": "python",
   "nbconvert_exporter": "python",
   "pygments_lexer": "ipython2",
   "version": "2.7.12"
  }
 },
 "nbformat": 4,
 "nbformat_minor": 2
}
