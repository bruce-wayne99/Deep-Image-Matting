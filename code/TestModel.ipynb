{
 "cells": [
  {
   "cell_type": "markdown",
   "metadata": {},
   "source": [
    "### Load Packages"
   ]
  },
  {
   "cell_type": "code",
   "execution_count": 1,
   "metadata": {},
   "outputs": [
    {
     "name": "stdout",
     "output_type": "stream",
     "text": [
      "Importing Jupyter notebook from DataLoader.ipynb\n",
      "Importing Jupyter notebook from ConvNet.ipynb\n"
     ]
    }
   ],
   "source": [
    "import torch\n",
    "import time\n",
    "import nbimporter\n",
    "from DataLoader import load_dataset\n",
    "from ConvNet import get_model\n",
    "import numpy as np\n",
    "import cv2\n",
    "import torch.optim as optim\n",
    "from torch.autograd import Variable\n",
    "import matplotlib.pyplot as plt"
   ]
  },
  {
   "cell_type": "markdown",
   "metadata": {},
   "source": [
    "### Keep checking learning rate"
   ]
  },
  {
   "cell_type": "code",
   "execution_count": 2,
   "metadata": {},
   "outputs": [],
   "source": [
    "def check_lr(optimizer, epoch):\n",
    "    if epoch >= 10:\n",
    "        for param_group in opt.param_groups:\n",
    "            param_group['lr'] *= 0.1"
   ]
  },
  {
   "cell_type": "markdown",
   "metadata": {},
   "source": [
    "### Copy pretrained model"
   ]
  },
  {
   "cell_type": "code",
   "execution_count": 3,
   "metadata": {},
   "outputs": [],
   "source": [
    "def copy_pretrain_vals(model, vgg_dict, isstrict):\n",
    "    model.load_state_dict(vgg_dict,strict=isstrict)\n",
    "    return model"
   ]
  },
  {
   "cell_type": "markdown",
   "metadata": {},
   "source": [
    "### Generating a file list array for data loader"
   ]
  },
  {
   "cell_type": "code",
   "execution_count": 4,
   "metadata": {},
   "outputs": [],
   "source": [
    "def get_files_list(fg_file, bg_file):\n",
    "    fg_list = []\n",
    "    bg_list = []\n",
    "    with open(fg_file, 'r') as f:\n",
    "        fg_list = f.readlines()\n",
    "    with open(bg_file, 'r') as f:\n",
    "        bg_list = f.readlines()\n",
    "    for i in range(len(fg_list)):\n",
    "        fg_list[i] = fg_list[i].strip('\\n').strip('\\r')\n",
    "    for i in range(len(bg_list)):\n",
    "        bg_list[i] = bg_list[i].strip('\\n').strip('\\r')\n",
    "    arr = []\n",
    "    cnt = 0\n",
    "    for i in range(len(fg_list)):\n",
    "        for j in range(20):\n",
    "            arr.append((fg_list[i], bg_list[cnt], fg_list[i], fg_list[i].strip('.png') + '_' + str(j) + '.png'))\n",
    "            cnt += 1\n",
    "    return arr"
   ]
  },
  {
   "cell_type": "markdown",
   "metadata": {},
   "source": [
    "### Test model function"
   ]
  },
  {
   "cell_type": "code",
   "execution_count": 5,
   "metadata": {},
   "outputs": [],
   "source": [
    "def test_model(model, dataset, trimap_path, cuda=False):\n",
    "    model.eval()\n",
    "    mse_diffs = 0.\n",
    "    sad_diffs = 0.\n",
    "    for iteration in range(dataset.__len__()):\n",
    "        torch.cuda.empty_cache()\n",
    "        file_info =  dataset.__getinfo__(iteration)\n",
    "        print(file_info)\n",
    "        batch = dataset.__getitem__(iteration)\n",
    "        if batch == None:\n",
    "            continue\n",
    "#         print('oompa')\n",
    "#         print(batch[0].shape)\n",
    "        batch0 = batch[0].reshape(1, batch[0].shape[0], batch[0].shape[1], batch[0].shape[2])\n",
    "        batch1 = batch[1].reshape(1, batch[1].shape[0], batch[1].shape[1], batch[1].shape[2])\n",
    "        batch2 = batch[2].reshape(1, batch[2].shape[0], batch[2].shape[1], batch[2].shape[2])\n",
    "        batch3 = batch[3].reshape(1, batch[3].shape[0], batch[3].shape[1], batch[3].shape[2])\n",
    "        batch4 = batch[4].reshape(1, batch[4].shape[0], batch[4].shape[1], batch[4].shape[2])\n",
    "        img = Variable(batch0)\n",
    "        alpha = Variable(batch1)\n",
    "        fg = Variable(batch2)\n",
    "        bg = Variable(batch3)\n",
    "#         trimap = Variable(batch4)\n",
    "        trimap = cv2.imread(trimap_path + file_info[3])[:, :, 0]\n",
    "#         cv2.imwrite('trimap.jpg', trimap)\n",
    "#         print('########')\n",
    "#         print(img.shape)\n",
    "        trimap = cv2.resize(trimap, (img.shape[3], img.shape[2]), interpolation=cv2.INTER_LINEAR)\n",
    "#         print(trimap.shape)\n",
    "        trimap = torch.from_numpy(trimap.astype(np.float32)[np.newaxis, :, :])\n",
    "#         print(trimap.size())\n",
    "        trimap = trimap.reshape(1, trimap.shape[0], trimap.shape[1], trimap.shape[2])\n",
    "#         print(trimap.size())\n",
    "        trimap = Variable(trimap)\n",
    "        if cuda:\n",
    "            img = img.cuda()\n",
    "            alpha = alpha.cuda()\n",
    "            fg = fg.cuda()\n",
    "            bg = bg.cuda()\n",
    "            trimap = trimap.cuda()\n",
    "\n",
    "        pred_alpha = model(torch.cat((img, trimap), 1))\n",
    "        pred_alpha = pred_alpha.data\n",
    "        if cuda:\n",
    "            pred_alpha = pred_alpha.cpu()\n",
    "        pred_alpha = pred_alpha.numpy()[0, 0, :, :]\n",
    "        pred_alpha[trimap == 255] = 1.\n",
    "        pred_alpha[trimap == 0 ] = 0.\n",
    "        pixel = float((trimap == 128).sum())\n",
    "        alpha = cv2.imread('/scratch/matting/dataset/Test_set/adobe/alpha/' + file_info[2])[:, :, 0]\n",
    "        alpha = cv2.resize(alpha, (pred_alpha.shape[1], pred_alpha.shape[0]), interpolation=cv2.INTER_LINEAR)\n",
    "        cv2.imwrite('alpha.jpg', alpha)\n",
    "        alpha = alpha / 255.\n",
    "        print('############')\n",
    "        print(pred_alpha.shape, alpha.shape)\n",
    "        mse_diff = ((pred_alpha - alpha) ** 2).sum() / pixel\n",
    "        sad_diff = np.abs(pred_alpha - alpha).sum()\n",
    "        mse_diffs += mse_diff\n",
    "        sad_diffs += sad_diff\n",
    "        print(mse_diffs/(iteration+1), sad_diffs/(iteration+1), iteration)\n",
    "        pred_alpha = (pred_alpha * 255).astype(np.uint8)\n",
    "        print(pred_alpha)\n",
    "        cv2.imwrite('alpha_pred.png', pred_alpha)\n",
    "        plt.imshow(pred_alpha)\n",
    "        break"
   ]
  },
  {
   "cell_type": "markdown",
   "metadata": {},
   "source": [
    "### Save model"
   ]
  },
  {
   "cell_type": "code",
   "execution_count": 6,
   "metadata": {},
   "outputs": [],
   "source": [
    "def save_model(path, model):\n",
    "    torch.save(model, path)"
   ]
  },
  {
   "cell_type": "markdown",
   "metadata": {},
   "source": [
    "### Main function"
   ]
  },
  {
   "cell_type": "code",
   "execution_count": 7,
   "metadata": {
    "scrolled": true
   },
   "outputs": [
    {
     "ename": "Exception",
     "evalue": "No GPU found",
     "output_type": "error",
     "traceback": [
      "\u001b[0;31m---------------------------------------------------------------------------\u001b[0m",
      "\u001b[0;31mException\u001b[0m                                 Traceback (most recent call last)",
      "\u001b[0;32m<ipython-input-7-003dbd165ca7>\u001b[0m in \u001b[0;36m<module>\u001b[0;34m()\u001b[0m\n\u001b[1;32m     26\u001b[0m         \u001b[0mmodel\u001b[0m \u001b[0;34m=\u001b[0m \u001b[0mmodel\u001b[0m\u001b[0;34m.\u001b[0m\u001b[0mcuda\u001b[0m\u001b[0;34m(\u001b[0m\u001b[0;34m)\u001b[0m\u001b[0;34m\u001b[0m\u001b[0m\n\u001b[1;32m     27\u001b[0m     \u001b[0mtest_model\u001b[0m\u001b[0;34m(\u001b[0m\u001b[0mmodel\u001b[0m\u001b[0;34m,\u001b[0m \u001b[0mdataset\u001b[0m\u001b[0;34m,\u001b[0m \u001b[0mtrimap_path\u001b[0m\u001b[0;34m,\u001b[0m \u001b[0mcuda\u001b[0m\u001b[0;34m)\u001b[0m\u001b[0;34m\u001b[0m\u001b[0m\n\u001b[0;32m---> 28\u001b[0;31m \u001b[0mmain\u001b[0m\u001b[0;34m(\u001b[0m\u001b[0;34m)\u001b[0m\u001b[0;34m\u001b[0m\u001b[0m\n\u001b[0m",
      "\u001b[0;32m<ipython-input-7-003dbd165ca7>\u001b[0m in \u001b[0;36mmain\u001b[0;34m(cuda)\u001b[0m\n\u001b[1;32m      1\u001b[0m \u001b[0;32mdef\u001b[0m \u001b[0mmain\u001b[0m\u001b[0;34m(\u001b[0m\u001b[0mcuda\u001b[0m\u001b[0;34m=\u001b[0m\u001b[0mTrue\u001b[0m\u001b[0;34m)\u001b[0m\u001b[0;34m:\u001b[0m\u001b[0;34m\u001b[0m\u001b[0m\n\u001b[1;32m      2\u001b[0m     \u001b[0;32mif\u001b[0m \u001b[0mcuda\u001b[0m \u001b[0;32mand\u001b[0m \u001b[0;32mnot\u001b[0m \u001b[0mtorch\u001b[0m\u001b[0;34m.\u001b[0m\u001b[0mcuda\u001b[0m\u001b[0;34m.\u001b[0m\u001b[0mis_available\u001b[0m\u001b[0;34m(\u001b[0m\u001b[0;34m)\u001b[0m\u001b[0;34m:\u001b[0m\u001b[0;34m\u001b[0m\u001b[0m\n\u001b[0;32m----> 3\u001b[0;31m         \u001b[0;32mraise\u001b[0m \u001b[0mException\u001b[0m\u001b[0;34m(\u001b[0m\u001b[0;34m\"No GPU found\"\u001b[0m\u001b[0;34m)\u001b[0m\u001b[0;34m\u001b[0m\u001b[0m\n\u001b[0m\u001b[1;32m      4\u001b[0m     \u001b[0;32mif\u001b[0m \u001b[0mcuda\u001b[0m\u001b[0;34m:\u001b[0m\u001b[0;34m\u001b[0m\u001b[0m\n\u001b[1;32m      5\u001b[0m         \u001b[0mtorch\u001b[0m\u001b[0;34m.\u001b[0m\u001b[0mcuda\u001b[0m\u001b[0;34m.\u001b[0m\u001b[0mmanual_seed\u001b[0m\u001b[0;34m(\u001b[0m\u001b[0;36m123\u001b[0m\u001b[0;34m)\u001b[0m\u001b[0;34m\u001b[0m\u001b[0m\n",
      "\u001b[0;31mException\u001b[0m: No GPU found"
     ]
    }
   ],
   "source": [
    "def main(cuda=False):\n",
    "    if cuda and not torch.cuda.is_available():\n",
    "        raise Exception(\"No GPU found\")\n",
    "    if cuda:\n",
    "        torch.cuda.manual_seed(123)\n",
    "    else:\n",
    "        torch.manual_seed(123)\n",
    "    \n",
    "    fg_path = '/scratch/matting/dataset/Test_set/adobe/fg/'\n",
    "    bg_path = '/scratch/matting/dataset/VOCO_dataset/'\n",
    "    alpha_path = '/scratch/matting/dataset/Test_set/adobe/alpha/'\n",
    "    trimap_path = '/scratch/matting/dataset/Test_set/adobe/trimaps/'\n",
    "#     vgg_path = '/scratch/matting/dataset/full_trained.pth'\n",
    "    vgg_path = '/scratch/matting/dataset/vgg_state_dict.pth'\n",
    "    fg_file = '/scratch/matting/dataset/Test_set/test_fg_names.txt'\n",
    "    bg_file = '/scratch/matting/dataset/Test_set/test_bg_names.txt'\n",
    "    files_list = get_files_list(fg_file, bg_file)\n",
    "#     print(files_list)\n",
    "    dataset = load_dataset(fg_path, alpha_path, bg_path, files_list)\n",
    "    model = get_model()\n",
    "    vgg_dict = torch.load(vgg_path, map_location='cpu')\n",
    "#     model = copy_pretrain_vals(model, vgg_dict[\"state_dict\"], True)\n",
    "    model = copy_pretrain_vals(model, vgg_dict, False)\n",
    "    print(model)\n",
    "    if cuda:\n",
    "        model = model.cuda()\n",
    "    test_model(model, dataset, trimap_path, cuda)\n",
    "main()"
   ]
  }
 ],
 "metadata": {
  "kernelspec": {
   "display_name": "CV Project",
   "language": "python",
   "name": "venv"
  },
  "language_info": {
   "codemirror_mode": {
    "name": "ipython",
    "version": 2
   },
   "file_extension": ".py",
   "mimetype": "text/x-python",
   "name": "python",
   "nbconvert_exporter": "python",
   "pygments_lexer": "ipython2",
   "version": "2.7.12"
  }
 },
 "nbformat": 4,
 "nbformat_minor": 2
}
