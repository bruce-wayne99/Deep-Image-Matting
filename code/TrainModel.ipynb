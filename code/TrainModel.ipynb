{
 "cells": [
  {
   "cell_type": "markdown",
   "metadata": {},
   "source": [
    "### Load Packages"
   ]
  },
  {
   "cell_type": "code",
   "execution_count": 1,
   "metadata": {},
   "outputs": [
    {
     "name": "stdout",
     "output_type": "stream",
     "text": [
      "Importing Jupyter notebook from DataLoader.ipynb\n",
      "Importing Jupyter notebook from ConvNet.ipynb\n"
     ]
    }
   ],
   "source": [
    "import torch\n",
    "import time\n",
    "import nbimporter\n",
    "from DataLoader import load_dataset\n",
    "from ConvNet import get_model\n",
    "import torch.optim as optim\n",
    "from torch.autograd import Variable"
   ]
  },
  {
   "cell_type": "markdown",
   "metadata": {},
   "source": [
    "### Encoder Decoder Loss function"
   ]
  },
  {
   "cell_type": "code",
   "execution_count": 2,
   "metadata": {},
   "outputs": [],
   "source": [
    "def loss_stage1(alpha, trimap, pred_alpha, fg, bg, img, cuda):\n",
    "    wi = torch.zeros(trimap.shape)\n",
    "    wi[trimap == 128] = 1.\n",
    "    t_wi = wi\n",
    "    t3_wi = torch.cat((wi, wi, wi), 1)\n",
    "    if cuda:\n",
    "        t3_wi = t3_wi.cuda()\n",
    "        t_wi = wi.cuda()\n",
    "\n",
    "    unknown_region_size = t_wi.sum()\n",
    "\n",
    "    # alpha loss\n",
    "    alpha = alpha / 255.\n",
    "    alpha_loss = torch.sqrt((pred_alpha - alpha)**2 + 1e-12)\n",
    "    alpha_loss = (alpha_loss * t_wi).sum() / (unknown_region_size + 1.)\n",
    "\n",
    "    # composite rgb loss\n",
    "    pred_alpha_3 = torch.cat((pred_alpha, pred_alpha, pred_alpha), 1)\n",
    "#     print(fg.shape, bg.shape, pred_alpha_3.shape)\n",
    "    comp = pred_alpha_3 * fg + (1. - pred_alpha_3) * bg\n",
    "    comp_loss = torch.sqrt((comp - img) ** 2 + 1e-12) / 255.\n",
    "    comp_loss = (comp_loss * t3_wi).sum() / (unknown_region_size + 1.) / 3.\n",
    "    return alpha_loss, comp_loss"
   ]
  },
  {
   "cell_type": "markdown",
   "metadata": {},
   "source": [
    "### Keep checking learning rate"
   ]
  },
  {
   "cell_type": "code",
   "execution_count": 3,
   "metadata": {},
   "outputs": [],
   "source": [
    "def check_lr(optimizer, epoch):\n",
    "    if epoch >= 10:\n",
    "        for param_group in opt.param_groups:\n",
    "            param_group['lr'] *= 0.1"
   ]
  },
  {
   "cell_type": "markdown",
   "metadata": {},
   "source": [
    "### Copy pretrained model"
   ]
  },
  {
   "cell_type": "code",
   "execution_count": 4,
   "metadata": {},
   "outputs": [],
   "source": [
    "def copy_pretrain_vals(model, vgg_dict):\n",
    "    model.load_state_dict(vgg_dict,strict=False)\n",
    "    return model"
   ]
  },
  {
   "cell_type": "markdown",
   "metadata": {},
   "source": [
    "### Generating a file list array for data loader"
   ]
  },
  {
   "cell_type": "code",
   "execution_count": 5,
   "metadata": {},
   "outputs": [],
   "source": [
    "def get_files_list(fg_file, bg_file):\n",
    "    fg_list = []\n",
    "    bg_list = []\n",
    "    with open(fg_file, 'r') as f:\n",
    "        fg_list = f.readlines()\n",
    "    with open(bg_file, 'r') as f:\n",
    "        bg_list = f.readlines()\n",
    "    for i in range(len(fg_list)):\n",
    "        fg_list[i] = fg_list[i].strip('\\n').strip('\\r')\n",
    "    for i in range(len(bg_list)):\n",
    "        bg_list[i] = bg_list[i].strip('\\n').strip('\\r')\n",
    "    arr = []\n",
    "    cnt = 0\n",
    "    for i in range(len(fg_list)):\n",
    "        for j in range(100):\n",
    "            arr.append((fg_list[i], bg_list[cnt], fg_list[i]))\n",
    "            cnt += 1\n",
    "    return arr"
   ]
  },
  {
   "cell_type": "markdown",
   "metadata": {},
   "source": [
    "### Train model function"
   ]
  },
  {
   "cell_type": "code",
   "execution_count": 6,
   "metadata": {},
   "outputs": [],
   "source": [
    "def train_model(model, optimizer, dataset, epoch, cuda=False):\n",
    "    model.train()\n",
    "#     for iteration, batch in enumerate(dataset, 1):\n",
    "#         print(iteration)\n",
    "#         torch.cuda.empty_cache()\n",
    "#         print(iteration, epoch)\n",
    "#         print(batch[0].shape, batch[1].shape, batch[2].shape, batch[3].shape, batch[4].shape)\n",
    "#         img = Variable(batch[0])\n",
    "#         alpha = Variable(batch[1])\n",
    "#         fg = Variable(batch[2])\n",
    "#         bg = Variable(batch[3])\n",
    "#         trimap = Variable(batch[4])\n",
    "\n",
    "#         if cuda:\n",
    "#             img = img.cuda()\n",
    "#             alpha = alpha.cuda()\n",
    "#             fg = fg.cuda()\n",
    "#             bg = bg.cuda()\n",
    "#             trimap = trimap.cuda()\n",
    "\n",
    "#         check_lr(optimizer, epoch)\n",
    "#         optimizer.zero_grad()\n",
    "\n",
    "#         pred_alpha = model(torch.cat((img, trimap), 1))\n",
    "\n",
    "#         alpha_loss, comp_loss = loss_stage1(alpha, trimap, pred_alpha, fg, bg, img, cuda)\n",
    "#         loss = alpha_loss*0.5 + comp_loss*0.5\n",
    "#         loss.backward()\n",
    "#         optimizer.step()\n",
    "    for iteration in range(dataset.__len__()):\n",
    "#         print(iteration)\n",
    "        torch.cuda.empty_cache()\n",
    "        batch = dataset.__getitem__(iteration)\n",
    "        if batch == None:\n",
    "            continue\n",
    "#         print(batch[0].shape)\n",
    "#         print(batch[0])\n",
    "        batch0 = batch[0].reshape(1, batch[0].shape[0], batch[0].shape[1], batch[0].shape[2])\n",
    "        batch1 = batch[1].reshape(1, batch[1].shape[0], batch[1].shape[1], batch[1].shape[2])\n",
    "        batch2 = batch[2].reshape(1, batch[2].shape[0], batch[2].shape[1], batch[2].shape[2])\n",
    "        batch3 = batch[3].reshape(1, batch[3].shape[0], batch[3].shape[1], batch[3].shape[2])\n",
    "        batch4 = batch[4].reshape(1, batch[4].shape[0], batch[4].shape[1], batch[4].shape[2])\n",
    "        img = Variable(batch0)\n",
    "        alpha = Variable(batch1)\n",
    "        fg = Variable(batch2)\n",
    "        bg = Variable(batch3)\n",
    "        trimap = Variable(batch4)\n",
    "#         print(batch[0].shape, batch[1].shape, batch[2].shape, batch[3].shape, batch[4].shape)\n",
    "#         print(img.shape, alpha.shape, bg.shape, fg.shape, trimap.shape)\n",
    "\n",
    "        if cuda:\n",
    "            img = img.cuda()\n",
    "            alpha = alpha.cuda()\n",
    "            fg = fg.cuda()\n",
    "            bg = bg.cuda()\n",
    "            trimap = trimap.cuda()\n",
    "\n",
    "        check_lr(optimizer, epoch)\n",
    "        optimizer.zero_grad()\n",
    "\n",
    "        pred_alpha = model(torch.cat((img, trimap), 1))\n",
    "\n",
    "        alpha_loss, comp_loss = loss_stage1(alpha, trimap, pred_alpha, fg, bg, img, cuda)\n",
    "        loss = alpha_loss*0.5 + comp_loss*0.5\n",
    "        loss.backward()\n",
    "        optimizer.step()\n",
    "        if iteration % 1000 == 0:\n",
    "            print(iteration, epoch, loss)"
   ]
  },
  {
   "cell_type": "markdown",
   "metadata": {},
   "source": [
    "### Save model"
   ]
  },
  {
   "cell_type": "code",
   "execution_count": 7,
   "metadata": {},
   "outputs": [],
   "source": [
    "def save_model(path, model):\n",
    "    torch.save(model, path)"
   ]
  },
  {
   "cell_type": "markdown",
   "metadata": {},
   "source": [
    "### Main function"
   ]
  },
  {
   "cell_type": "code",
   "execution_count": 8,
   "metadata": {},
   "outputs": [
    {
     "name": "stdout",
     "output_type": "stream",
     "text": [
      "(0, 0, tensor(0.2568, device='cuda:0', grad_fn=<AddBackward0>))\n",
      "(20, 0, tensor(0.2744, device='cuda:0', grad_fn=<AddBackward0>))\n",
      "(40, 0, tensor(0.1345, device='cuda:0', grad_fn=<AddBackward0>))\n",
      "(60, 0, tensor(0.1024, device='cuda:0', grad_fn=<AddBackward0>))\n",
      "(80, 0, tensor(0.1251, device='cuda:0', grad_fn=<AddBackward0>))\n",
      "(100, 0, tensor(0.1151, device='cuda:0', grad_fn=<AddBackward0>))\n",
      "(120, 0, tensor(0.1191, device='cuda:0', grad_fn=<AddBackward0>))\n"
     ]
    },
    {
     "ename": "KeyboardInterrupt",
     "evalue": "",
     "output_type": "error",
     "traceback": [
      "\u001b[0;31m---------------------------------------------------------------------------\u001b[0m",
      "\u001b[0;31mKeyboardInterrupt\u001b[0m                         Traceback (most recent call last)",
      "\u001b[0;32m<ipython-input-8-4cf00bb9e96f>\u001b[0m in \u001b[0;36m<module>\u001b[0;34m()\u001b[0m\n\u001b[1;32m     30\u001b[0m             \u001b[0msave_model\u001b[0m\u001b[0;34m(\u001b[0m\u001b[0;34m'/scratch/matting/model_'\u001b[0m \u001b[0;34m+\u001b[0m \u001b[0mi\u001b[0m \u001b[0;34m+\u001b[0m \u001b[0;34m'.pth'\u001b[0m\u001b[0;34m,\u001b[0m \u001b[0mmodel\u001b[0m\u001b[0;34m)\u001b[0m\u001b[0;34m\u001b[0m\u001b[0m\n\u001b[1;32m     31\u001b[0m     \u001b[0msave_model\u001b[0m\u001b[0;34m(\u001b[0m\u001b[0;34m'/scratch/matting/model_final.pth'\u001b[0m\u001b[0;34m,\u001b[0m \u001b[0mmodel\u001b[0m\u001b[0;34m)\u001b[0m\u001b[0;34m\u001b[0m\u001b[0m\n\u001b[0;32m---> 32\u001b[0;31m \u001b[0mmain\u001b[0m\u001b[0;34m(\u001b[0m\u001b[0;34m)\u001b[0m\u001b[0;34m\u001b[0m\u001b[0m\n\u001b[0m",
      "\u001b[0;32m<ipython-input-8-4cf00bb9e96f>\u001b[0m in \u001b[0;36mmain\u001b[0;34m(cuda)\u001b[0m\n\u001b[1;32m     26\u001b[0m \u001b[0;31m#     return\u001b[0m\u001b[0;34m\u001b[0m\u001b[0;34m\u001b[0m\u001b[0m\n\u001b[1;32m     27\u001b[0m     \u001b[0;32mfor\u001b[0m \u001b[0mi\u001b[0m \u001b[0;32min\u001b[0m \u001b[0mrange\u001b[0m\u001b[0;34m(\u001b[0m\u001b[0mepochs\u001b[0m\u001b[0;34m)\u001b[0m\u001b[0;34m:\u001b[0m\u001b[0;34m\u001b[0m\u001b[0m\n\u001b[0;32m---> 28\u001b[0;31m         \u001b[0mtrain_model\u001b[0m\u001b[0;34m(\u001b[0m\u001b[0mmodel\u001b[0m\u001b[0;34m,\u001b[0m \u001b[0moptimizer\u001b[0m\u001b[0;34m,\u001b[0m \u001b[0mdataset\u001b[0m\u001b[0;34m,\u001b[0m \u001b[0mi\u001b[0m\u001b[0;34m,\u001b[0m \u001b[0mcuda\u001b[0m\u001b[0;34m)\u001b[0m\u001b[0;34m\u001b[0m\u001b[0m\n\u001b[0m\u001b[1;32m     29\u001b[0m         \u001b[0;32mif\u001b[0m \u001b[0mi\u001b[0m \u001b[0;34m>\u001b[0m \u001b[0;36m0\u001b[0m \u001b[0;32mand\u001b[0m \u001b[0mi\u001b[0m \u001b[0;34m%\u001b[0m \u001b[0;36m10\u001b[0m \u001b[0;34m==\u001b[0m \u001b[0;36m0\u001b[0m\u001b[0;34m:\u001b[0m\u001b[0;34m\u001b[0m\u001b[0m\n\u001b[1;32m     30\u001b[0m             \u001b[0msave_model\u001b[0m\u001b[0;34m(\u001b[0m\u001b[0;34m'/scratch/matting/model_'\u001b[0m \u001b[0;34m+\u001b[0m \u001b[0mi\u001b[0m \u001b[0;34m+\u001b[0m \u001b[0;34m'.pth'\u001b[0m\u001b[0;34m,\u001b[0m \u001b[0mmodel\u001b[0m\u001b[0;34m)\u001b[0m\u001b[0;34m\u001b[0m\u001b[0m\n",
      "\u001b[0;32m<ipython-input-6-fb906f5e8574>\u001b[0m in \u001b[0;36mtrain_model\u001b[0;34m(model, optimizer, dataset, epoch, cuda)\u001b[0m\n\u001b[1;32m     31\u001b[0m \u001b[0;31m#         print(iteration)\u001b[0m\u001b[0;34m\u001b[0m\u001b[0;34m\u001b[0m\u001b[0m\n\u001b[1;32m     32\u001b[0m         \u001b[0mtorch\u001b[0m\u001b[0;34m.\u001b[0m\u001b[0mcuda\u001b[0m\u001b[0;34m.\u001b[0m\u001b[0mempty_cache\u001b[0m\u001b[0;34m(\u001b[0m\u001b[0;34m)\u001b[0m\u001b[0;34m\u001b[0m\u001b[0m\n\u001b[0;32m---> 33\u001b[0;31m         \u001b[0mbatch\u001b[0m \u001b[0;34m=\u001b[0m \u001b[0mdataset\u001b[0m\u001b[0;34m.\u001b[0m\u001b[0m__getitem__\u001b[0m\u001b[0;34m(\u001b[0m\u001b[0miteration\u001b[0m\u001b[0;34m)\u001b[0m\u001b[0;34m\u001b[0m\u001b[0m\n\u001b[0m\u001b[1;32m     34\u001b[0m         \u001b[0;32mif\u001b[0m \u001b[0mbatch\u001b[0m \u001b[0;34m==\u001b[0m \u001b[0mNone\u001b[0m\u001b[0;34m:\u001b[0m\u001b[0;34m\u001b[0m\u001b[0m\n\u001b[1;32m     35\u001b[0m             \u001b[0;32mcontinue\u001b[0m\u001b[0;34m\u001b[0m\u001b[0m\n",
      "\u001b[0;32m/home/subramanyam.m/Deep-Image-Matting/code/DataLoader.ipynb\u001b[0m in \u001b[0;36m__getitem__\u001b[0;34m(self, index)\u001b[0m\n\u001b[1;32m     17\u001b[0m     \u001b[0;34m\"import random\\n\"\u001b[0m\u001b[0;34m,\u001b[0m\u001b[0;34m\u001b[0m\u001b[0m\n\u001b[1;32m     18\u001b[0m     \u001b[0;34m\"import cv2\\n\"\u001b[0m\u001b[0;34m,\u001b[0m\u001b[0;34m\u001b[0m\u001b[0m\n\u001b[0;32m---> 19\u001b[0;31m     \u001b[0;34m\"import numpy as np\\n\"\u001b[0m\u001b[0;34m,\u001b[0m\u001b[0;34m\u001b[0m\u001b[0m\n\u001b[0m\u001b[1;32m     20\u001b[0m     \u001b[0;34m\"from torch.utils.data import DataLoader\\n\"\u001b[0m\u001b[0;34m,\u001b[0m\u001b[0;34m\u001b[0m\u001b[0m\n\u001b[1;32m     21\u001b[0m     \u001b[0;34m\"import matplotlib.pyplot as plt\"\u001b[0m\u001b[0;34m\u001b[0m\u001b[0m\n",
      "\u001b[0;31mKeyboardInterrupt\u001b[0m: "
     ]
    }
   ],
   "source": [
    "def main(cuda=True):\n",
    "    if cuda and not torch.cuda.is_available():\n",
    "        raise Exception(\"No GPU found\")\n",
    "    if cuda:\n",
    "        torch.cuda.manual_seed(123)\n",
    "    else:\n",
    "        torch.manual_seed(123)\n",
    "    \n",
    "    fg_path = '/scratch/matting/dataset/Training_set/adobe/fg/'\n",
    "    bg_path = '/scratch/matting/dataset/train2014/'\n",
    "    alpha_path = '/scratch/matting/dataset/Training_set/adobe/alpha/'\n",
    "    vgg_path = '/scratch/matting/dataset/vgg_state_dict.pth'\n",
    "    fg_file = '/scratch/matting/dataset/Training_set/training_fg_names.txt'\n",
    "    bg_file = '/scratch/matting/dataset/Training_set/training_bg_names.txt'\n",
    "    epochs = 40\n",
    "    files_list = get_files_list(fg_file, bg_file)\n",
    "#     print(files_list)\n",
    "    dataset = load_dataset(fg_path, alpha_path, bg_path, files_list)\n",
    "    model = get_model()\n",
    "    vgg_dict = torch.load(vgg_path)\n",
    "    model = copy_pretrain_vals(model, vgg_dict)\n",
    "    if cuda:\n",
    "        model = model.cuda()\n",
    "    optimizer = optim.Adam(filter(lambda p: p.requires_grad, model.parameters()), lr=1e-5)\n",
    "#     save_model('/scratch/matting/model_testing.pth', model)\n",
    "#     return\n",
    "    for i in range(epochs):\n",
    "        train_model(model, optimizer, dataset, i, cuda)\n",
    "        if i > 0 and i % 5 == 0:\n",
    "            save_model('/scratch/matting/model_' + i + '.pth', model)\n",
    "    save_model('/scratch/matting/model_final.pth', model)\n",
    "main()"
   ]
  }
 ],
 "metadata": {
  "kernelspec": {
   "display_name": "CV Project",
   "language": "python",
   "name": "venv"
  },
  "language_info": {
   "codemirror_mode": {
    "name": "ipython",
    "version": 2
   },
   "file_extension": ".py",
   "mimetype": "text/x-python",
   "name": "python",
   "nbconvert_exporter": "python",
   "pygments_lexer": "ipython2",
   "version": "2.7.12"
  }
 },
 "nbformat": 4,
 "nbformat_minor": 2
}
