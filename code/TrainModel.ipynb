{
 "cells": [
  {
   "cell_type": "markdown",
   "metadata": {},
   "source": [
    "### Load Packages"
   ]
  },
  {
   "cell_type": "code",
   "execution_count": 8,
   "metadata": {},
   "outputs": [],
   "source": [
    "import torch\n",
    "import nbimporter\n",
    "from DataLoader import load_dataset\n",
    "from ConvNet import get_model\n",
    "import torch.optim as optim\n"
   ]
  },
  {
   "cell_type": "markdown",
   "metadata": {},
   "source": [
    "### Train model function"
   ]
  },
  {
   "cell_type": "code",
   "execution_count": 20,
   "metadata": {},
   "outputs": [
    {
     "data": {
      "text/plain": [
       "<function DataLoader.load_dataset>"
      ]
     },
     "execution_count": 20,
     "metadata": {},
     "output_type": "execute_result"
    }
   ],
   "source": []
  },
  {
   "cell_type": "markdown",
   "metadata": {},
   "source": [
    "### Main function"
   ]
  },
  {
   "cell_type": "code",
   "execution_count": 9,
   "metadata": {},
   "outputs": [],
   "source": [
    "def main(cuda=False):\n",
    "    if cuda and not torch.cuda.is_available():\n",
    "        raise Exception(\"No GPU found\")\n",
    "    if cuda:\n",
    "        torch.cuda.manual_seed(123)\n",
    "    else:\n",
    "        torch.manual_seed(123)\n",
    "    \n",
    "    fg_path = '/scratch/matting/dataset/Training_set/adobe/fg/'\n",
    "    bg_path = '/scratch/matting/dataset/Training_set/adobe/bg/'\n",
    "    alpha_path = '/scratch/matting/dataset/Training_set/adobe/alpha/'\n",
    "    vgg_path = '/scratch/matting/dataset/vgg_state_dict.pth'\n",
    "    fg_file = '/scratch/matting/dataset/Training_set/training_fg_names.txt'\n",
    "    bg_file = '/scratch/matting/dataset/Training_set/training_bg_names.txt'\n",
    "    epochs = 10\n",
    "    files_list = get_files_list(fg_file, bg_file)\n",
    "    dataset = load_dataset(fg_path, alpha_path, bg_path, files_list)\n",
    "    model = get_model()\n",
    "    vgg_dict = torch.load(vgg_path)\n",
    "    model = copy_pretrain_vals(model, vgg_dict)\n",
    "    if cuda:\n",
    "        model = model.cuda()\n",
    "    optimizer = optim.Adam(filter(lambda p: p.requires_grad, model.parameters()), lr=1e-5)\n",
    "#     for i in range(epochs):\n",
    "#         train_model(model, optimizer, dataset, i)\n",
    "main()"
   ]
  },
  {
   "cell_type": "markdown",
   "metadata": {},
   "source": [
    "### Copy pretrained model"
   ]
  },
  {
   "cell_type": "code",
   "execution_count": 4,
   "metadata": {},
   "outputs": [],
   "source": [
    "def copy_pretrain_vals(model, vgg_dict):\n",
    "    model.load_state_dict(vgg_dict,strict=False)\n",
    "    return model"
   ]
  },
  {
   "cell_type": "markdown",
   "metadata": {},
   "source": [
    "### Generating a file list array for data loader"
   ]
  },
  {
   "cell_type": "code",
   "execution_count": 3,
   "metadata": {},
   "outputs": [],
   "source": [
    "def get_files_list(fg_file, bg_file):\n",
    "    fg_list = []\n",
    "    bg_list = []\n",
    "    with open(fg_file, 'r') as f:\n",
    "        fg_list = f.readlines()\n",
    "    with open(bg_file, 'r') as f:\n",
    "        bg_list = f.readlines()\n",
    "    for i in range(len(fg_list)):\n",
    "        fg_list[i] = fg_list[i].strip('\\n').strip('\\r')\n",
    "    for i in range(len(bg_list)):\n",
    "        bg_list[i] = bg_list[i].strip('\\n').strip('\\r')\n",
    "    arr = []\n",
    "    cnt = 0\n",
    "    for i in range(len(fg_list)):\n",
    "        for j in range(100):\n",
    "            arr.append((fg_list[i], bg_list[cnt], fg_list[i]))\n",
    "            cnt += 1\n",
    "    return arr"
   ]
  },
  {
   "cell_type": "code",
   "execution_count": null,
   "metadata": {},
   "outputs": [],
   "source": []
  },
  {
   "cell_type": "code",
   "execution_count": null,
   "metadata": {},
   "outputs": [],
   "source": []
  },
  {
   "cell_type": "code",
   "execution_count": null,
   "metadata": {},
   "outputs": [],
   "source": []
  },
  {
   "cell_type": "code",
   "execution_count": null,
   "metadata": {},
   "outputs": [],
   "source": []
  }
 ],
 "metadata": {
  "kernelspec": {
   "display_name": "CV Project",
   "language": "python",
   "name": "venv"
  },
  "language_info": {
   "codemirror_mode": {
    "name": "ipython",
    "version": 2
   },
   "file_extension": ".py",
   "mimetype": "text/x-python",
   "name": "python",
   "nbconvert_exporter": "python",
   "pygments_lexer": "ipython2",
   "version": "2.7.12"
  }
 },
 "nbformat": 4,
 "nbformat_minor": 2
}
